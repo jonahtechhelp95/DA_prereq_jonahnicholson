{
 "cells": [
  {
   "cell_type": "code",
   "execution_count": 1,
   "id": "f9b25593",
   "metadata": {},
   "outputs": [
    {
     "name": "stdout",
     "output_type": "stream",
     "text": [
      "Hello, my name is Jonah Nicholson\n"
     ]
    }
   ],
   "source": [
    "name = \"Jonah Nicholson\"\n",
    "print(\"Hello, my name is \" + name)"
   ]
  },
  {
   "cell_type": "markdown",
   "id": "34dd2e4e",
   "metadata": {},
   "source": [
    "Introduction\n",
    "Who am I: Jonah Nicholson\n",
    "What I'm excited to learn: I'm excited to become more familiar with the python language and find out all the neat things I can do relating to DA.\n",
    "Hobbies: Playing video games, hiking, cycling, reading, listening to music\n",
    "Location: Louisville, KY"
   ]
  }
 ],
 "metadata": {
  "kernelspec": {
   "display_name": "Python 3",
   "language": "python",
   "name": "python3"
  },
  "language_info": {
   "codemirror_mode": {
    "name": "ipython",
    "version": 3
   },
   "file_extension": ".py",
   "mimetype": "text/x-python",
   "name": "python",
   "nbconvert_exporter": "python",
   "pygments_lexer": "ipython3",
   "version": "3.11.9"
  }
 },
 "nbformat": 4,
 "nbformat_minor": 5
}
